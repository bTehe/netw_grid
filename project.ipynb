{
 "cells": [
  {
   "cell_type": "code",
   "execution_count": 2,
   "metadata": {},
   "outputs": [],
   "source": [
    "import networkx as nx"
   ]
  },
  {
   "cell_type": "code",
   "execution_count": 3,
   "metadata": {},
   "outputs": [],
   "source": [
    "G = nx.read_edgelist('out.csv', delimiter=',')"
   ]
  },
  {
   "cell_type": "markdown",
   "metadata": {},
   "source": [
    "```EDA```"
   ]
  },
  {
   "cell_type": "code",
   "execution_count": 22,
   "metadata": {},
   "outputs": [
    {
     "name": "stdout",
     "output_type": "stream",
     "text": [
      "Number of nodes: 4941\n",
      "Number of edges: 6594\n",
      "Average Clustering Coefficient: 0.08010361108159712\n",
      "Average_Shortest_Path: 18.989185424445708\n",
      "Diameter: 46\n"
     ]
    }
   ],
   "source": [
    "num_nodes = G.number_of_nodes()\n",
    "num_edges = G.number_of_edges()\n",
    "\n",
    "print(f\"Number of nodes: {num_nodes}\")\n",
    "print(f\"Number of edges: {num_edges}\")\n",
    "\n",
    "Average_Clustering_Coefficient = nx.average_clustering(G)\n",
    "print(f\"Average Clustering Coefficient: {Average_Clustering_Coefficient}\")\n",
    "\n",
    "Average_Shortest_Path = nx.average_shortest_path_length(G)\n",
    "print(f\"Average_Shortest_Path: {Average_Shortest_Path}\")\n",
    "\n",
    "Diameter = nx.diameter(G)\n",
    "print(f\"Diameter: {Diameter}\")\n"
   ]
  },
  {
   "cell_type": "markdown",
   "metadata": {},
   "source": [
    "```Degree/Betweenness/Closeness Centrality```"
   ]
  },
  {
   "cell_type": "code",
   "execution_count": 13,
   "metadata": {},
   "outputs": [
    {
     "name": "stdout",
     "output_type": "stream",
     "text": [
      "Nodes with highest degree centrality: ['2847', '602', '932', '3411', '4436', '558', '2287', '2926', '2865', '3930']\n",
      "Nodes with highest betweeness centrality: ['651', '559', '1365', '2824', '2685', '1324', '1378', '1213', '433', '2781']\n",
      "Nodes with highest betweeness centrality: ['651', '559', '1365', '2824', '2685', '1324', '1378', '1213', '433', '2781']\n"
     ]
    }
   ],
   "source": [
    "degree_centrality = nx.degree_centrality(G)\n",
    "betweenness_centrality = nx.betweenness_centrality(G)\n",
    "closeness_centrality = nx.closeness_centrality(G)\n",
    "\n",
    "critical_nodes_degree = sorted(degree_centrality, key=degree_centrality.get, reverse=True)[:10]\n",
    "critical_nodes_betweenness = sorted(betweenness_centrality, key=betweenness_centrality.get, reverse=True)[:10]\n",
    "critical_nodes_closeness = sorted(closeness_centrality, key=closeness_centrality.get, reverse=True)[:10]\n",
    "\n",
    "print(f\"Nodes with highest degree centrality: {critical_nodes_degree}\")\n",
    "print(f\"Nodes with highest betweeness centrality: {critical_nodes_betweenness}\")\n",
    "print(f\"Nodes with highest closeness centrality: {critical_nodes_betweenness}\")"
   ]
  },
  {
   "cell_type": "markdown",
   "metadata": {},
   "source": [
    "```Simulating Attacks or Failures```"
   ]
  },
  {
   "cell_type": "code",
   "execution_count": null,
   "metadata": {},
   "outputs": [],
   "source": []
  }
 ],
 "metadata": {
  "kernelspec": {
   "display_name": "Python 3",
   "language": "python",
   "name": "python3"
  },
  "language_info": {
   "codemirror_mode": {
    "name": "ipython",
    "version": 3
   },
   "file_extension": ".py",
   "mimetype": "text/x-python",
   "name": "python",
   "nbconvert_exporter": "python",
   "pygments_lexer": "ipython3",
   "version": "3.10.6"
  }
 },
 "nbformat": 4,
 "nbformat_minor": 2
}
